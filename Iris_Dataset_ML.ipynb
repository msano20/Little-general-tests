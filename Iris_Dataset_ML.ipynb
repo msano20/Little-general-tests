{
 "cells": [
  {
   "cell_type": "markdown",
   "id": "d7fde78f",
   "metadata": {},
   "source": [
    "Code was taken from https://machinelearningmastery.com/machine-learning-in-python-step-by-step/"
   ]
  },
  {
   "cell_type": "code",
   "execution_count": 22,
   "id": "2e17a214",
   "metadata": {},
   "outputs": [],
   "source": [
    "#Dependencies:\n",
    "from pandas import read_csv\n",
    "from pandas.plotting import scatter_matrix\n",
    "from matplotlib import pyplot\n",
    "from sklearn.model_selection import train_test_split\n",
    "from sklearn.model_selection import cross_val_score\n",
    "from sklearn.model_selection import StratifiedKFold\n",
    "from sklearn.metrics import classification_report\n",
    "from sklearn.metrics import confusion_matrix\n",
    "from sklearn.metrics import accuracy_score\n",
    "from sklearn.linear_model import LogisticRegression\n",
    "from sklearn.tree import DecisionTreeClassifier\n",
    "from sklearn.neighbors import KNeighborsClassifier\n",
    "from sklearn.discriminant_analysis import LinearDiscriminantAnalysis\n",
    "from sklearn.naive_bayes import GaussianNB\n",
    "from sklearn.svm import SVC"
   ]
  },
  {
   "cell_type": "markdown",
   "id": "0e2b6882",
   "metadata": {},
   "source": [
    "We will be using the well-known \"iris.csv\" dataset downloaded from \"jbrownlee\". We can then execute code to view the size of the array, as well as the first several rows of the dataset. "
   ]
  },
  {
   "cell_type": "code",
   "execution_count": 23,
   "id": "ebee737a",
   "metadata": {},
   "outputs": [
    {
     "name": "stdout",
     "output_type": "stream",
     "text": [
      "Dimensions: (150, 5)\n",
      "   sepal-length  sepal-width  petal-length  petal-width        class\n",
      "0           5.1          3.5           1.4          0.2  Iris-setosa\n",
      "1           4.9          3.0           1.4          0.2  Iris-setosa\n",
      "2           4.7          3.2           1.3          0.2  Iris-setosa\n",
      "3           4.6          3.1           1.5          0.2  Iris-setosa\n",
      "4           5.0          3.6           1.4          0.2  Iris-setosa\n",
      "class\n",
      "Iris-setosa        50\n",
      "Iris-versicolor    50\n",
      "Iris-virginica     50\n",
      "dtype: int64\n"
     ]
    }
   ],
   "source": [
    "url = \"https://raw.githubusercontent.com/jbrownlee/Datasets/master/iris.csv\"\n",
    "names = ['sepal-length', 'sepal-width', 'petal-length', 'petal-width', 'class']\n",
    "dataset = read_csv(url, names=names)\n",
    "print(\"Dimensions:\",dataset.shape)\n",
    "print(dataset.head())\n",
    "#View number of rows per class\n",
    "print(dataset.groupby('class').size())"
   ]
  },
  {
   "cell_type": "markdown",
   "id": "acac2c20",
   "metadata": {},
   "source": [
    "Based on the organized classes listed above, this dataset revolves around iris flower measurements relating to their species. We now have to divide the dataset into x and y vectors."
   ]
  },
  {
   "cell_type": "code",
   "execution_count": 24,
   "id": "31019d66",
   "metadata": {},
   "outputs": [
    {
     "name": "stdout",
     "output_type": "stream",
     "text": [
      "X values:\n",
      "Type: <class 'numpy.ndarray'>\n",
      "[[5.1 3.5 1.4 0.2]\n",
      " [4.9 3.0 1.4 0.2]\n",
      " [4.7 3.2 1.3 0.2]\n",
      " [4.6 3.1 1.5 0.2]\n",
      " [5.0 3.6 1.4 0.2]\n",
      " [5.4 3.9 1.7 0.4]\n",
      " [4.6 3.4 1.4 0.3]\n",
      " [5.0 3.4 1.5 0.2]\n",
      " [4.4 2.9 1.4 0.2]\n",
      " [4.9 3.1 1.5 0.1]]\n",
      "y values:\n",
      "Type: <class 'numpy.ndarray'>\n",
      "['Iris-setosa' 'Iris-setosa' 'Iris-setosa' 'Iris-setosa' 'Iris-setosa'\n",
      " 'Iris-setosa' 'Iris-setosa' 'Iris-setosa' 'Iris-setosa' 'Iris-setosa']\n"
     ]
    }
   ],
   "source": [
    "array = dataset.values\n",
    "X = array[:,0:4]\n",
    "print(\"X values:\")\n",
    "print(\"Type:\", type(X))\n",
    "print(X[:10])\n",
    "Y = array[:,4]\n",
    "print(\"y values:\")\n",
    "print(\"Type:\", type(Y))\n",
    "print(Y[:10])"
   ]
  },
  {
   "cell_type": "markdown",
   "id": "72b76d87",
   "metadata": {},
   "source": [
    "Split dataset into two: one training and one testing dataset. The testing dataset will be omitted from training."
   ]
  },
  {
   "cell_type": "code",
   "execution_count": 38,
   "id": "cb106390",
   "metadata": {},
   "outputs": [
    {
     "name": "stdout",
     "output_type": "stream",
     "text": [
      "X_train:\n",
      "<class 'numpy.ndarray'>\n",
      "[[6.1 3.0 4.6 1.4]\n",
      " [7.7 3.0 6.1 2.3]\n",
      " [5.6 2.5 3.9 1.1]\n",
      " [6.4 2.8 5.6 2.1]\n",
      " [5.8 2.8 5.1 2.4]\n",
      " [5.3 3.7 1.5 0.2]\n",
      " [5.5 2.3 4.0 1.3]\n",
      " [5.2 3.4 1.4 0.2]\n",
      " [6.5 2.8 4.6 1.5]\n",
      " [6.7 2.5 5.8 1.8]]\n",
      "X_validation:\n",
      "<class 'numpy.ndarray'>\n",
      "[[5.8 4.0 1.2 0.2]\n",
      " [5.1 2.5 3.0 1.1]\n",
      " [6.6 3.0 4.4 1.4]\n",
      " [5.4 3.9 1.3 0.4]\n",
      " [7.9 3.8 6.4 2.0]\n",
      " [6.3 3.3 4.7 1.6]\n",
      " [6.9 3.1 5.1 2.3]\n",
      " [5.1 3.8 1.9 0.4]\n",
      " [4.7 3.2 1.6 0.2]\n",
      " [6.9 3.2 5.7 2.3]]\n",
      "Y_train:\n",
      "<class 'numpy.ndarray'>\n",
      "['Iris-versicolor' 'Iris-virginica' 'Iris-versicolor' 'Iris-virginica'\n",
      " 'Iris-virginica' 'Iris-setosa' 'Iris-versicolor' 'Iris-setosa'\n",
      " 'Iris-versicolor' 'Iris-virginica']\n",
      "Y_validation:\n",
      "<class 'numpy.ndarray'>\n",
      "['Iris-setosa' 'Iris-versicolor' 'Iris-versicolor' 'Iris-setosa'\n",
      " 'Iris-virginica' 'Iris-versicolor' 'Iris-virginica' 'Iris-setosa'\n",
      " 'Iris-setosa' 'Iris-virginica']\n"
     ]
    }
   ],
   "source": [
    "X_train, X_validation, Y_train, Y_validation = train_test_split(X, Y, test_size=0.20 ,random_state=1)\n",
    "#Let's see what the training and testing datasets look like:\n",
    "#X training:\n",
    "print(\"X_train:\")\n",
    "print(type(X_train))\n",
    "print(X_train[:10])\n",
    "#X_validation\n",
    "print(\"X_validation:\")\n",
    "print(type(X_validation))\n",
    "print(X_validation[:10])\n",
    "#Y training\n",
    "print(\"Y_train:\")\n",
    "print(type(Y_train))\n",
    "print(Y_train[:10])\n",
    "#Y_validation\n",
    "print(\"Y_validation:\")\n",
    "print(type(Y_validation))\n",
    "print(Y_validation[:10])"
   ]
  },
  {
   "cell_type": "markdown",
   "id": "d38286fc",
   "metadata": {},
   "source": [
    "The training and testing datasets seem identical to the original datasets in type and structure. "
   ]
  },
  {
   "cell_type": "code",
   "execution_count": 30,
   "id": "c0f02317",
   "metadata": {},
   "outputs": [
    {
     "name": "stdout",
     "output_type": "stream",
     "text": [
      "<class 'list'>\n"
     ]
    }
   ],
   "source": [
    "#Each entry in this list is composed of its own sklearn model. \n",
    "models = []\n",
    "models.append(('LR', LogisticRegression(solver='liblinear', multi_class='ovr')))\n",
    "models.append(('LDA', LinearDiscriminantAnalysis()))\n",
    "models.append(('KNN', KNeighborsClassifier()))\n",
    "models.append(('CART', DecisionTreeClassifier()))\n",
    "models.append(('NB', GaussianNB()))\n",
    "models.append(('SVM', SVC(gamma='auto')))"
   ]
  },
  {
   "cell_type": "markdown",
   "id": "cbdc143e",
   "metadata": {},
   "source": [
    "Next, loop through all models and apply "
   ]
  },
  {
   "cell_type": "code",
   "execution_count": 37,
   "id": "fe09ecb8",
   "metadata": {},
   "outputs": [
    {
     "name": "stdout",
     "output_type": "stream",
     "text": [
      "Name: LR\n",
      "Model: LogisticRegression(multi_class='ovr', solver='liblinear')\n",
      "Type: <class 'sklearn.linear_model._logistic.LogisticRegression'>\n",
      "LR: 0.941667 (0.065085)\n",
      "==========================================================\n",
      "Name: LDA\n",
      "Model: LinearDiscriminantAnalysis()\n",
      "Type: <class 'sklearn.discriminant_analysis.LinearDiscriminantAnalysis'>\n",
      "LDA: 0.975000 (0.038188)\n",
      "==========================================================\n",
      "Name: KNN\n",
      "Model: KNeighborsClassifier()\n",
      "Type: <class 'sklearn.neighbors._classification.KNeighborsClassifier'>\n",
      "KNN: 0.958333 (0.041667)\n",
      "==========================================================\n",
      "Name: CART\n",
      "Model: DecisionTreeClassifier()\n",
      "Type: <class 'sklearn.tree._classes.DecisionTreeClassifier'>\n",
      "CART: 0.941667 (0.053359)\n",
      "==========================================================\n",
      "Name: NB\n",
      "Model: GaussianNB()\n",
      "Type: <class 'sklearn.naive_bayes.GaussianNB'>\n",
      "NB: 0.950000 (0.055277)\n",
      "==========================================================\n",
      "Name: SVM\n",
      "Model: SVC(gamma='auto')\n",
      "Type: <class 'sklearn.svm._classes.SVC'>\n",
      "SVM: 0.983333 (0.033333)\n",
      "==========================================================\n"
     ]
    },
    {
     "name": "stderr",
     "output_type": "stream",
     "text": [
      "/home/misumicurieco/anaconda3/lib/python3.9/site-packages/sklearn/neighbors/_classification.py:228: FutureWarning: Unlike other reduction functions (e.g. `skew`, `kurtosis`), the default behavior of `mode` typically preserves the axis it acts along. In SciPy 1.11.0, this behavior will change: the default value of `keepdims` will become False, the `axis` over which the statistic is taken will be eliminated, and the value None will no longer be accepted. Set `keepdims` to True or False to avoid this warning.\n",
      "  mode, _ = stats.mode(_y[neigh_ind, k], axis=1)\n",
      "/home/misumicurieco/anaconda3/lib/python3.9/site-packages/sklearn/neighbors/_classification.py:228: FutureWarning: Unlike other reduction functions (e.g. `skew`, `kurtosis`), the default behavior of `mode` typically preserves the axis it acts along. In SciPy 1.11.0, this behavior will change: the default value of `keepdims` will become False, the `axis` over which the statistic is taken will be eliminated, and the value None will no longer be accepted. Set `keepdims` to True or False to avoid this warning.\n",
      "  mode, _ = stats.mode(_y[neigh_ind, k], axis=1)\n",
      "/home/misumicurieco/anaconda3/lib/python3.9/site-packages/sklearn/neighbors/_classification.py:228: FutureWarning: Unlike other reduction functions (e.g. `skew`, `kurtosis`), the default behavior of `mode` typically preserves the axis it acts along. In SciPy 1.11.0, this behavior will change: the default value of `keepdims` will become False, the `axis` over which the statistic is taken will be eliminated, and the value None will no longer be accepted. Set `keepdims` to True or False to avoid this warning.\n",
      "  mode, _ = stats.mode(_y[neigh_ind, k], axis=1)\n",
      "/home/misumicurieco/anaconda3/lib/python3.9/site-packages/sklearn/neighbors/_classification.py:228: FutureWarning: Unlike other reduction functions (e.g. `skew`, `kurtosis`), the default behavior of `mode` typically preserves the axis it acts along. In SciPy 1.11.0, this behavior will change: the default value of `keepdims` will become False, the `axis` over which the statistic is taken will be eliminated, and the value None will no longer be accepted. Set `keepdims` to True or False to avoid this warning.\n",
      "  mode, _ = stats.mode(_y[neigh_ind, k], axis=1)\n",
      "/home/misumicurieco/anaconda3/lib/python3.9/site-packages/sklearn/neighbors/_classification.py:228: FutureWarning: Unlike other reduction functions (e.g. `skew`, `kurtosis`), the default behavior of `mode` typically preserves the axis it acts along. In SciPy 1.11.0, this behavior will change: the default value of `keepdims` will become False, the `axis` over which the statistic is taken will be eliminated, and the value None will no longer be accepted. Set `keepdims` to True or False to avoid this warning.\n",
      "  mode, _ = stats.mode(_y[neigh_ind, k], axis=1)\n",
      "/home/misumicurieco/anaconda3/lib/python3.9/site-packages/sklearn/neighbors/_classification.py:228: FutureWarning: Unlike other reduction functions (e.g. `skew`, `kurtosis`), the default behavior of `mode` typically preserves the axis it acts along. In SciPy 1.11.0, this behavior will change: the default value of `keepdims` will become False, the `axis` over which the statistic is taken will be eliminated, and the value None will no longer be accepted. Set `keepdims` to True or False to avoid this warning.\n",
      "  mode, _ = stats.mode(_y[neigh_ind, k], axis=1)\n",
      "/home/misumicurieco/anaconda3/lib/python3.9/site-packages/sklearn/neighbors/_classification.py:228: FutureWarning: Unlike other reduction functions (e.g. `skew`, `kurtosis`), the default behavior of `mode` typically preserves the axis it acts along. In SciPy 1.11.0, this behavior will change: the default value of `keepdims` will become False, the `axis` over which the statistic is taken will be eliminated, and the value None will no longer be accepted. Set `keepdims` to True or False to avoid this warning.\n",
      "  mode, _ = stats.mode(_y[neigh_ind, k], axis=1)\n",
      "/home/misumicurieco/anaconda3/lib/python3.9/site-packages/sklearn/neighbors/_classification.py:228: FutureWarning: Unlike other reduction functions (e.g. `skew`, `kurtosis`), the default behavior of `mode` typically preserves the axis it acts along. In SciPy 1.11.0, this behavior will change: the default value of `keepdims` will become False, the `axis` over which the statistic is taken will be eliminated, and the value None will no longer be accepted. Set `keepdims` to True or False to avoid this warning.\n",
      "  mode, _ = stats.mode(_y[neigh_ind, k], axis=1)\n",
      "/home/misumicurieco/anaconda3/lib/python3.9/site-packages/sklearn/neighbors/_classification.py:228: FutureWarning: Unlike other reduction functions (e.g. `skew`, `kurtosis`), the default behavior of `mode` typically preserves the axis it acts along. In SciPy 1.11.0, this behavior will change: the default value of `keepdims` will become False, the `axis` over which the statistic is taken will be eliminated, and the value None will no longer be accepted. Set `keepdims` to True or False to avoid this warning.\n",
      "  mode, _ = stats.mode(_y[neigh_ind, k], axis=1)\n",
      "/home/misumicurieco/anaconda3/lib/python3.9/site-packages/sklearn/neighbors/_classification.py:228: FutureWarning: Unlike other reduction functions (e.g. `skew`, `kurtosis`), the default behavior of `mode` typically preserves the axis it acts along. In SciPy 1.11.0, this behavior will change: the default value of `keepdims` will become False, the `axis` over which the statistic is taken will be eliminated, and the value None will no longer be accepted. Set `keepdims` to True or False to avoid this warning.\n",
      "  mode, _ = stats.mode(_y[neigh_ind, k], axis=1)\n"
     ]
    }
   ],
   "source": [
    "results = []\n",
    "names = []\n",
    "for name, model in models:\n",
    "    print('Name:',name)\n",
    "    print('Model:', model)\n",
    "    print('Type:',type(model))\n",
    "    #kfold = StratifiedKFold(n_splits=10, random_state=1, shuffle=True)\n",
    "    cv_results = cross_val_score(model, X_train, Y_train, cv=kfold, scoring='accuracy')\n",
    "    results.append(cv_results)\n",
    "    names.append(name)\n",
    "    print('%s: %f (%f)' % (name, cv_results.mean(), cv_results.std()))\n",
    "    print(\"==========================================================\")"
   ]
  },
  {
   "cell_type": "markdown",
   "id": "751084ae",
   "metadata": {},
   "source": [
    "SVM seems to have the highest accuracy score (98%), but let's represent visually the performance of the other models:"
   ]
  },
  {
   "cell_type": "code",
   "execution_count": 39,
   "id": "c1a30491",
   "metadata": {},
   "outputs": [
    {
     "data": {
      "image/png": "[encoded data removed]",
      "text/plain": [
       "<Figure size 640x480 with 1 Axes>"
      ]
     },
     "metadata": {},
     "output_type": "display_data"
    }
   ],
   "source": [
    "# Compare Algorithms\n",
    "pyplot.boxplot(results, labels=names)\n",
    "pyplot.title('Algorithm Comparison')\n",
    "pyplot.show()"
   ]
  },
  {
   "cell_type": "markdown",
   "id": "66a70f43",
   "metadata": {},
   "source": [
    "Now we will apply our highest-scoring model (SVM) to the entire dataset. According to this documentation: https://scikit-learn.org/stable/modules/generated/sklearn.svm.SVC.html, "
   ]
  },
  {
   "cell_type": "code",
   "execution_count": 100,
   "id": "2cb1a794",
   "metadata": {},
   "outputs": [
    {
     "name": "stdout",
     "output_type": "stream",
     "text": [
      "X_train: \n",
      " [[6.1 3.0 4.6 1.4]\n",
      " [7.7 3.0 6.1 2.3]\n",
      " [5.6 2.5 3.9 1.1]\n",
      " [6.4 2.8 5.6 2.1]\n",
      " [5.8 2.8 5.1 2.4]] \n",
      "(Each row in X_train relates to petal, sepal, etc measurements for that iris)     \n",
      " Dimensions: \n",
      " (120, 4) \n",
      "\n",
      "Y_train: \n",
      " ['Iris-versicolor' 'Iris-virginica' 'Iris-versicolor' 'Iris-virginica'\n",
      " 'Iris-virginica'] \n",
      " (Each element in Y_train represents the recorded species for that row)    \n",
      " Dimensions: \n",
      " (120,) \n",
      "\n",
      "Model Params: \n",
      " {'C': 1.0, 'break_ties': False, 'cache_size': 200, 'class_weight': None, 'coef0': 0.0, 'decision_function_shape': 'ovr', 'degree': 3, 'gamma': 'auto', 'kernel': 'rbf', 'max_iter': -1, 'probability': False, 'random_state': None, 'shrinking': True, 'tol': 0.001, 'verbose': False} \n",
      "\n",
      "Vector length: \n",
      " 30 \n",
      "\n",
      "The prediction vector:\n",
      " ['Iris-setosa' 'Iris-versicolor' 'Iris-versicolor' 'Iris-setosa'\n",
      " 'Iris-virginica' 'Iris-versicolor' 'Iris-virginica' 'Iris-setosa'\n",
      " 'Iris-setosa' 'Iris-virginica' 'Iris-versicolor' 'Iris-setosa'\n",
      " 'Iris-virginica' 'Iris-versicolor' 'Iris-versicolor' 'Iris-setosa'\n",
      " 'Iris-versicolor' 'Iris-versicolor' 'Iris-setosa' 'Iris-setosa'\n",
      " 'Iris-versicolor' 'Iris-versicolor' 'Iris-virginica' 'Iris-setosa'\n",
      " 'Iris-virginica' 'Iris-versicolor' 'Iris-setosa' 'Iris-setosa'\n",
      " 'Iris-versicolor' 'Iris-virginica']\n"
     ]
    }
   ],
   "source": [
    "#Instantiate a new 'sklearn.svm._classes.SVC' object\n",
    "model = SVC(gamma = 'auto')\n",
    "model.fit(X_train, Y_train)\n",
    "#printing the training sets here just as a reminder :^)\n",
    "print(\"X_train: \\n %s \\n\\\n",
    "(Each row in X_train relates to petal, sepal, etc measurements for that iris) \\\n",
    "    \\n Dimensions: \\n %s \\n\" % (X_train[:5],X_train.shape))\n",
    "\n",
    "#print(\"(Each row in X_train relates to petal, sepal, etc measurements for that iris)\\n\")\n",
    "print(\"Y_train: \\n %s \\n \\\n",
    "(Each element in Y_train represents the recorded species for that row)\\\n",
    "    \\n Dimensions: \\n %s \\n\" % (Y_train[:5], Y_train.shape))\n",
    "model_params = (model.get_params(deep=True))\n",
    "print(\"Model Params: \\n %s \\n\" % (model_params))\n",
    "model_pred = model.predict(X_validation)\n",
    "print(\"Vector length: \\n %s \\n\" % (predictions.size))\n",
    "\n",
    "\n",
    "print(\"The prediction vector:\\n\",predictions)"
   ]
  },
  {
   "cell_type": "markdown",
   "id": "2e3fd572",
   "metadata": {},
   "source": [
    "Now we will assess the accuracy of this vector."
   ]
  },
  {
   "cell_type": "code",
   "execution_count": 105,
   "id": "f047aa85",
   "metadata": {},
   "outputs": [
    {
     "name": "stdout",
     "output_type": "stream",
     "text": [
      "Accuracy score:\n",
      " 0.9666666666666667\n",
      "\n",
      "\n",
      "Confusion matrix:\n",
      " [[11  0  0]\n",
      " [ 0 12  1]\n",
      " [ 0  0  6]]\n",
      "\n",
      "\n",
      "Classification mode:\n",
      " \n",
      "                  precision    recall  f1-score   support\n",
      "\n",
      "    Iris-setosa       1.00      1.00      1.00        11\n",
      "Iris-versicolor       1.00      0.92      0.96        13\n",
      " Iris-virginica       0.86      1.00      0.92         6\n",
      "\n",
      "       accuracy                           0.97        30\n",
      "      macro avg       0.95      0.97      0.96        30\n",
      "   weighted avg       0.97      0.97      0.97        30\n",
      "\n"
     ]
    }
   ],
   "source": [
    "# Evaluate predictions\n",
    "print(\"Accuracy score:\\n\",accuracy_score(Y_validation, predictions))\n",
    "print(\"\\n\")\n",
    "print(\"Confusion matrix:\\n\",confusion_matrix(Y_validation, predictions))\n",
    "print(\"\\n\")\n",
    "print(\"Classification mode:\\n \\n\",classification_report(Y_validation, predictions))"
   ]
  }
 ],
 "metadata": {
  "kernelspec": {
   "display_name": "Python 3 (ipykernel)",
   "language": "python",
   "name": "python3"
  },
  "language_info": {
   "codemirror_mode": {
    "name": "ipython",
    "version": 3
   },
   "file_extension": ".py",
   "mimetype": "text/x-python",
   "name": "python",
   "nbconvert_exporter": "python",
   "pygments_lexer": "ipython3",
   "version": "3.9.13"
  }
 },
 "nbformat": 4,
 "nbformat_minor": 5
}
